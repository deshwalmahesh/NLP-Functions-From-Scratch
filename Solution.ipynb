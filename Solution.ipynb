{
 "cells": [
  {
   "cell_type": "code",
   "execution_count": 1,
   "metadata": {},
   "outputs": [],
   "source": [
    "import sys\n",
    "from collections import defaultdict\n",
    "from collections import Counter\n",
    "import math\n",
    "import random\n",
    "import os"
   ]
  },
  {
   "cell_type": "code",
   "execution_count": 2,
   "metadata": {},
   "outputs": [],
   "source": [
    "def corpus_reader(corpusfile, lexicon=None): \n",
    "    with open(corpusfile,'r') as corpus: \n",
    "        for line in corpus: \n",
    "            if line.strip():\n",
    "                sequence = line.lower().strip().split()\n",
    "                if lexicon: \n",
    "                    yield [word if word in lexicon else \"UNK\" for word in sequence]\n",
    "                else: \n",
    "                    yield sequence\n",
    "\n",
    "def get_lexicon(corpus):\n",
    "    word_counts = defaultdict(int)\n",
    "    for sentence in corpus:\n",
    "        for word in sentence: \n",
    "            word_counts[word] += 1\n",
    "    return set(word for word in word_counts if word_counts[word] > 1)  \n"
   ]
  },
  {
   "cell_type": "code",
   "execution_count": 44,
   "metadata": {},
   "outputs": [],
   "source": [
    "def get_ngrams(seq, n):\n",
    "    \"\"\"\n",
    "    COMPLETE THIS FUNCTION (PART 1)\n",
    "    Given a sequence, this function should return a list of n-grams, where each n-gram is a Python tuple.\n",
    "    This should work for arbitrary values of 1 <= n < len(sequence).\n",
    "    \"\"\"\n",
    "    end = len(seq)\n",
    "    error = 0\n",
    "    result = []\n",
    "    start = 0\n",
    "    \n",
    "    if n<1 or n>=end:\n",
    "        error = 1\n",
    "    assert error<1, \"value of 'n' should be 1 <= n < length of sequence\"\n",
    "    \n",
    "    sequence = seq.copy()\n",
    "    sequence.insert(0,'START')\n",
    "    sequence.append('STOP')\n",
    "    end+=2\n",
    "    \n",
    "    while start+n<end+1:\n",
    "        result.append(tuple(sequence[start:start+n]))\n",
    "        start+=1\n",
    "    return result"
   ]
  },
  {
   "cell_type": "code",
   "execution_count": 74,
   "metadata": {},
   "outputs": [],
   "source": [
    "class TrigramModel(object):\n",
    "    \n",
    "    def __init__(self, corpusfile):\n",
    "    \n",
    "        # Iterate through the corpus once to build a lexicon \n",
    "        generator = corpus_reader(corpusfile)\n",
    "        self.lexicon = get_lexicon(generator)\n",
    "        self.lexicon.add(\"UNK\")\n",
    "        self.lexicon.add(\"START\")\n",
    "        self.lexicon.add(\"STOP\")\n",
    "    \n",
    "        # Now iterate through the corpus again and count ngrams\n",
    "        generator = corpus_reader(corpusfile, self.lexicon)\n",
    "        self.count_ngrams(generator)\n",
    "\n",
    "\n",
    "    def count_ngrams(self, corpus):\n",
    "        \"\"\"\n",
    "        COMPLETE THIS METHOD (PART 2)\n",
    "        Given a corpus iterator, populate dictionaries of unigram, bigram,\n",
    "        and trigram counts. \n",
    "        \"\"\"\n",
    "        \n",
    "        one_g = []\n",
    "        two_g = []\n",
    "        three_g = []\n",
    "        for sequence in corpus:\n",
    "            one_g.extend(get_ngrams(sequence,1))\n",
    "            two_g.extend(get_ngrams(sequence,2))\n",
    "            three_g.extend(get_ngrams(sequence,3))\n",
    "            \n",
    "        self.unigramcounts = Counter(one_g)\n",
    "        self.bigramcounts = Counter(two_g)\n",
    "        self.trigramcounts = Counter(three_g)\n",
    "\n",
    "        return None"
   ]
  },
  {
   "cell_type": "code",
   "execution_count": null,
   "metadata": {},
   "outputs": [],
   "source": []
  },
  {
   "cell_type": "code",
   "execution_count": null,
   "metadata": {},
   "outputs": [],
   "source": []
  }
 ],
 "metadata": {
  "kernelspec": {
   "display_name": "Python 3",
   "language": "python",
   "name": "python3"
  },
  "language_info": {
   "codemirror_mode": {
    "name": "ipython",
    "version": 3
   },
   "file_extension": ".py",
   "mimetype": "text/x-python",
   "name": "python",
   "nbconvert_exporter": "python",
   "pygments_lexer": "ipython3",
   "version": "3.7.4"
  }
 },
 "nbformat": 4,
 "nbformat_minor": 4
}
